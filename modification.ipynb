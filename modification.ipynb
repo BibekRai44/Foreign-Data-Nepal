{
 "cells": [
  {
   "cell_type": "code",
   "execution_count": 76,
   "metadata": {},
   "outputs": [],
   "source": [
    "import pandas as pd"
   ]
  },
  {
   "cell_type": "code",
   "execution_count": 77,
   "metadata": {},
   "outputs": [],
   "source": [
    "df=pd.read_csv('2079-csv/baisakh-2079.csv')"
   ]
  },
  {
   "cell_type": "code",
   "execution_count": 78,
   "metadata": {},
   "outputs": [
    {
     "data": {
      "text/plain": [
       "Unnamed: 0                 0\n",
       "Recruiting Agency          0\n",
       "Unnamed: 2                 0\n",
       "Unnamed: 3                 0\n",
       "Individual-New             0\n",
       "Unnamed: 5                 0\n",
       "Unnamed: 6                 0\n",
       "Individual-Legalization    0\n",
       "Unnamed: 8                 0\n",
       "Unnamed: 9                 0\n",
       "Individual-ReEntry         0\n",
       "Unnamed: 11                0\n",
       "Unnamed: 12                0\n",
       "Total with ReEntry         0\n",
       "Unnamed: 14                0\n",
       "Unnamed: 15                0\n",
       "Total without ReEntry      0\n",
       "Unnamed: 17                0\n",
       "Unnamed: 18                0\n",
       "dtype: int64"
      ]
     },
     "execution_count": 78,
     "metadata": {},
     "output_type": "execute_result"
    }
   ],
   "source": [
    "df.isnull().sum()"
   ]
  },
  {
   "cell_type": "code",
   "execution_count": null,
   "metadata": {},
   "outputs": [],
   "source": []
  }
 ],
 "metadata": {
  "kernelspec": {
   "display_name": "Python 3",
   "language": "python",
   "name": "python3"
  },
  "language_info": {
   "codemirror_mode": {
    "name": "ipython",
    "version": 3
   },
   "file_extension": ".py",
   "mimetype": "text/x-python",
   "name": "python",
   "nbconvert_exporter": "python",
   "pygments_lexer": "ipython3",
   "version": "3.10.6"
  },
  "orig_nbformat": 4
 },
 "nbformat": 4,
 "nbformat_minor": 2
}
